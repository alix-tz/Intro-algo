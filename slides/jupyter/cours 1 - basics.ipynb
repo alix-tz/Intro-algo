{
 "cells": [
  {
   "cell_type": "markdown",
   "metadata": {
    "slideshow": {
     "slide_type": "slide"
    }
   },
   "source": [
    "# Introduction à l'Algorithmie et à Python\n",
    "\n",
    "## Cours 1\n",
    "\n",
    "\n",
    "\n",
    "📌 Ecole nationale des chartes, Master TNAH\n",
    "\n",
    "---\n",
    "\n",
    "#### Alix Chagué\n",
    "\n",
    "\n",
    "📫 [alix.chague@inria.fr](mailto:alix.chague@inria.fr)  \n",
    "\n",
    "💼 *Ingénieure Recherche et Développement* @ Inria"
   ]
  },
  {
   "cell_type": "markdown",
   "metadata": {
    "slideshow": {
     "slide_type": "subslide"
    }
   },
   "source": [
    "### *Crédits*\n",
    "\n",
    "> Librement inspiré des [supports de cours](https://github.com/gguibon/essec-python-1) de Gaël Guibon  \n",
    "> Librement inspiré des [supports de cours](https://goo.gl/UFqu2U) de Julien Pilla\n",
    "\n",
    "> Retrouver l'ensemble du cours sur 👉 [**github.com/alix-tz/enc-intro-algo**](https://github.com/alix-tz/enc-intro-algo)👈"
   ]
  },
  {
   "cell_type": "markdown",
   "metadata": {
    "slideshow": {
     "slide_type": "slide"
    }
   },
   "source": [
    "## Objectifs du cours\n",
    "\n",
    "🏆 Connaître le vocabulaire de la programmation\n",
    "\n",
    "🏆 Savoir lire et concevoir un algorithme\n",
    "\n",
    "🏆 Se familiariser avec l'environnement de développement de Python\n",
    "\n",
    "🏆 Connaître les bonnes pratiques de développement\n",
    "\n",
    "🏆 Ecrire un programme simple avec Python"
   ]
  },
  {
   "cell_type": "markdown",
   "metadata": {
    "slideshow": {
     "slide_type": "slide"
    }
   },
   "source": [
    "## Evaluation 🤕\n",
    "\n",
    "- Un **quiz 📋** à la fin de chaque cours `(/10)`\n",
    "- Une évaluation finale sous la forme d'un **script Python 🐍** `(/20)`"
   ]
  },
  {
   "cell_type": "markdown",
   "metadata": {
    "slideshow": {
     "slide_type": "slide"
    }
   },
   "source": [
    "# Programmation et algorithmes"
   ]
  },
  {
   "cell_type": "markdown",
   "metadata": {
    "slideshow": {
     "slide_type": "subslide"
    }
   },
   "source": [
    "## Programmation : basics\n",
    "\n",
    "Un `programme` est une **suite d'instructions** fournies à la machine pour qu'elle les exécute afin de produire un résultat (`output`). Un programme peut faire appel à des données extérieures. (`input`)\n",
    "\n",
    "Ces instructions sont exécutées dans un ordre précis, un algorithme a donc un début et une fin.\n",
    "\n",
    "\n",
    "Elles sont construites à partir d'éléments de bases communs à tous les langages :\n",
    "- `valeurs`\n",
    "- `fonctions`\n",
    "- `variables`\n",
    "- `opérateurs`\n",
    "- `structures conditionnelles`\n",
    "- `boucles`\n",
    "- `commentaires`\n"
   ]
  },
  {
   "cell_type": "markdown",
   "metadata": {
    "slideshow": {
     "slide_type": "subslide"
    }
   },
   "source": [
    "## Programmation : langages\n",
    "\n",
    "Il existe une multitude de langages pour exprimer ces instructions, par exemple :\n",
    "\n",
    "| **C++** | **Java** | **Python** | **R** | **php** |\n",
    "| :---: | :---: | :---: | :---: | :---: |\n",
    "| ![c++](../../images/c++.Png) | ![java](../../images/java.PnG) | ![python](../../images/python.PnG) | ![r](../../images/r.PnG) | ![php](../../images/php.PnG) |"
   ]
  },
  {
   "cell_type": "markdown",
   "metadata": {
    "slideshow": {
     "slide_type": "fragment"
    }
   },
   "source": [
    "**💁 langages de haut niveau :** Python, Java, etc.  \n",
    "\n",
    "**🤖 langages de bas niveau :** C, langage d'assemblage, code machine, etc.  "
   ]
  },
  {
   "cell_type": "markdown",
   "metadata": {
    "slideshow": {
     "slide_type": "fragment"
    }
   },
   "source": [
    "Les langages de haut niveau ont besoin d'être `compilés` avant d'être exécutés : ils sont traduits en un code binaire (suite de 0 et de 1) compréhensible par la machine."
   ]
  },
  {
   "cell_type": "markdown",
   "metadata": {
    "slideshow": {
     "slide_type": "subslide"
    }
   },
   "source": [
    "## Programmation : Brace yourself!\n",
    "\n",
    "Faut-il être un **robot** 🤖 / un-e **magicien-ne** 🧙 / un-e **geek** 🤓 pour faire de l'algo ? *(rayez la mention inutile)*"
   ]
  },
  {
   "cell_type": "markdown",
   "metadata": {
    "slideshow": {
     "slide_type": "fragment"
    }
   },
   "source": [
    "![shrug](../../images/shrug.png)\n",
    "\n",
    "**Non !**"
   ]
  },
  {
   "cell_type": "markdown",
   "metadata": {
    "slideshow": {
     "slide_type": "subslide"
    }
   },
   "source": [
    "## Programmation : starter pack\n",
    "\n",
    "Pour réussir à faire de l'algo il faut...\n",
    "\n",
    "- de la **logique**\n",
    "- de la **rigueur :**\n",
    "    - vérifier tout, chaque caractère, chaque valeur, chaque ponctuation\n",
    "    - mettre les instructions dans le bon ordre\n",
    "- de la **patience :**\n",
    "    - vérifier/comprendre les messages d'erreur\n",
    "    - procéder pas à pas\n"
   ]
  },
  {
   "cell_type": "markdown",
   "metadata": {
    "slideshow": {
     "slide_type": "subslide"
    }
   },
   "source": [
    "## Programmation : logique\n",
    "\n",
    "![demo](../../images/block-escape.pNg)"
   ]
  },
  {
   "cell_type": "markdown",
   "metadata": {
    "slideshow": {
     "slide_type": "subslide"
    }
   },
   "source": [
    "## Programmation : pseudo code\n",
    "\n",
    "Le pseudo code est une façon d'exprimer une suite d'instructions de manière abstraite, sans suivre la grammaire d'un langage en particulier. \n",
    "\n",
    "En pseudo code, `1 ligne = 1 instruction` !\n",
    "\n",
    "\n",
    "``` c\n",
    "DEBUT\n",
    "\n",
    "Instruction 1\n",
    "Instruction 2\n",
    "Instruction 3\n",
    "etc...\n",
    "\n",
    "FIN\n",
    "```\n",
    "\n"
   ]
  },
  {
   "cell_type": "markdown",
   "metadata": {
    "slideshow": {
     "slide_type": "skip"
    }
   },
   "source": [
    "Solution\n",
    "\n",
    "``` python\n",
    "DEBUT\n",
    "\n",
    "  Sélectionner W\n",
    "  Déplacer de 1 vers le haut\n",
    "  Sélectionner Z\n",
    "  Déplacer de 1 vers la gauche\n",
    "  Sélectionner Y\n",
    "  Déplacer de 1 vers le bas\n",
    "  Sélectionner Rouge\n",
    "  Déplacer de 3 vers la droite\n",
    "\n",
    "FIN\n",
    "``` "
   ]
  },
  {
   "cell_type": "markdown",
   "metadata": {
    "slideshow": {
     "slide_type": "subslide"
    }
   },
   "source": [
    "## Programmation et pseudo-code : exercice de logique\n",
    "\n",
    "![exercice 1](../../images/logique_ex.Png)\n",
    "\n",
    "|  Instructions possibles | |\n",
    "| :-- | :-- |\n",
    "| - sélectionner bloc `?` | - déplacer de `?` cases vers `?` |"
   ]
  },
  {
   "cell_type": "markdown",
   "metadata": {
    "slideshow": {
     "slide_type": "subslide"
    }
   },
   "source": [
    "## Programmation : instructions\n",
    "\n",
    "Quelques exemples d'instructions :\n",
    "\n",
    "``` c++\n",
    "// commentaire\n",
    "\n",
    "variable = \"valeur\" // assignation\n",
    "\n",
    "faisQuelqueChose()  // appel de fonction\n",
    "\n",
    "1 + 1               // opération arithmétique\n",
    "\n",
    "1 == 1              // comparaison de valeurs\n",
    "\n",
    "// etc...\n",
    "```\n"
   ]
  },
  {
   "cell_type": "markdown",
   "metadata": {
    "slideshow": {
     "slide_type": "slide"
    }
   },
   "source": [
    "# Valeurs et données"
   ]
  },
  {
   "cell_type": "markdown",
   "metadata": {
    "slideshow": {
     "slide_type": "subslide"
    }
   },
   "source": [
    "## Valeurs et données\n",
    "\n",
    "Il existe plusieurs types de valeurs possibles, les principales sont : \n",
    "\n",
    "| type de valeur | syntaxe | notation |\n",
    "| :------------- | :------ | -------: |\n",
    "| `string` (chaîne de caractères) | 'entre guillemets simples', \"doubles\" ou \"\"\"triples\"\"\" | `str` |\n",
    "| `integer` (entiers) | des chiffres, seulement des chiffres : 21 | `int` |\n",
    "| `float` (décimaux) | des chiffres dont les décimaux sont après un \".\" : 21.0 | `fl` |\n",
    "| `boolean` (Booléen) | Il n'y que trois valeurs possibles : True, False ou None | `bool` |\n",
    "\n"
   ]
  },
  {
   "cell_type": "markdown",
   "metadata": {
    "slideshow": {
     "slide_type": "fragment"
    }
   },
   "source": [
    "> Attention !\n",
    ">\n",
    "> - \"3\" et 3 ne sont pas identiques !  \n",
    "> - 4 et 4.0 sont identiques  \n",
    "> - alors qu'on aura : 1, 14, 19, 40, 150  \n",
    "> - on aura : \"1\", \"14\", \"150\", \"19\", \"40\"  "
   ]
  },
  {
   "cell_type": "markdown",
   "metadata": {
    "slideshow": {
     "slide_type": "slide"
    }
   },
   "source": [
    "# Python\n",
    "\n"
   ]
  },
  {
   "cell_type": "markdown",
   "metadata": {
    "slideshow": {
     "slide_type": "fragment"
    }
   },
   "source": [
    "### 👉 https://repl.it/languages/python3"
   ]
  },
  {
   "cell_type": "markdown",
   "metadata": {
    "slideshow": {
     "slide_type": "fragment"
    }
   },
   "source": [
    "Python est un langage de programmation de haut niveau sous licence libre. Il a été créé par Guido Van Rossum mais son développement est pris en charge depuis 2001 par la Python Software Foundation.\n",
    "\n",
    "Le langague Python continue d'évoluer depuis par le biais des `PEP` (*Python Enhancement Proposals*)"
   ]
  },
  {
   "cell_type": "markdown",
   "metadata": {
    "slideshow": {
     "slide_type": "subslide"
    }
   },
   "source": [
    "## Python : PEP 8 -- Style Guide for Python Code\n",
    "\n",
    "https://www.python.org/dev/peps/pep-0008/\n",
    "\n",
    "``` \n",
    "One of Guido's key insights is that code is read much more often than it is written. The guidelines provided here are intended to improve the readability of code and make it consistent across the wide spectrum of Python code. As PEP 20 says, \"Readability counts\".\n",
    "\n",
    "``` \n"
   ]
  },
  {
   "cell_type": "markdown",
   "metadata": {
    "slideshow": {
     "slide_type": "subslide"
    }
   },
   "source": [
    "## Python : PEP 20 -- The Zen of Python\n",
    "\n",
    "https://www.python.org/dev/peps/pep-0020/\n",
    "\n",
    "``` \n",
    "Beautiful is better than ugly.\n",
    "Explicit is better than implicit.\n",
    "Simple is better than complex.\n",
    "Complex is better than complicated.\n",
    "Flat is better than nested.\n",
    "Sparse is better than dense.\n",
    "Readability counts.\n",
    "Special cases aren't special enough to break the rules.\n",
    "Although practicality beats purity.\n",
    "Errors should never pass silently.\n",
    "Unless explicitly silenced.\n",
    "In the face of ambiguity, refuse the temptation to guess.\n",
    "There should be one-- and preferably only one --obvious way to do it.\n",
    "Although that way may not be obvious at first unless you're Dutch.\n",
    "Now is better than never.\n",
    "Although never is often better than *right* now.\n",
    "If the implementation is hard to explain, it's a bad idea.\n",
    "If the implementation is easy to explain, it may be a good idea.\n",
    "Namespaces are one honking great idea -- let's do more of those!\n",
    "```"
   ]
  },
  {
   "cell_type": "markdown",
   "metadata": {
    "slideshow": {
     "slide_type": "subslide"
    }
   },
   "source": [
    "## Python : 2.x vs. 3.x\n",
    "\n",
    "Entre 2008 et 2019, cohabitaient `Python 2` et `Python 3`, deux versions de Python dont la compatibilité n'est pas totale. Depuis le 31 décembre 2019, Python 2 est officiellement \"abandonné\" et seul regne Python 3."
   ]
  },
  {
   "cell_type": "markdown",
   "metadata": {
    "slideshow": {
     "slide_type": "subslide"
    }
   },
   "source": [
    "## Python : hello world\n",
    "\n",
    "``` python\n",
    "# https://www.python.org/shell/\n",
    "\n",
    "print(\"hello, world\")\n",
    "\n",
    "``` "
   ]
  },
  {
   "cell_type": "markdown",
   "metadata": {
    "slideshow": {
     "slide_type": "fragment"
    }
   },
   "source": [
    "👉 `print()` est une fonction dite `built-in`\n",
    "\n",
    "👉 `\"hello, world\"` est une `chaîne de caractères` fournie à la fonction `print()`\n",
    "\n",
    "👉 une fonction est un bloc d'instructions permettant d'obtenir un résultat précis\n",
    "\n",
    "👉 anatomie d'une fonction : `nom_de_la_fonction(argument, argument, etc)`\n",
    "\n"
   ]
  },
  {
   "cell_type": "markdown",
   "metadata": {
    "slideshow": {
     "slide_type": "subslide"
    }
   },
   "source": [
    "## Python : lire les messages d'erreur\n",
    "\n",
    "\n",
    "### Erreur n° 1 \"NameError\"\n",
    "```\n",
    "print(hello, world)\n",
    "Traceback (most recent call last):\n",
    "  File \"<stdin>\", line 1, in <module>\n",
    "NameError: name 'hello' is not defined\n",
    "``` \n",
    "\n",
    "### Erreur n° 2 \"SyntaxError : EOL ...\"\n",
    "```\n",
    "print(\"hello world)\n",
    "  File \"<stdin>\", line 1\n",
    "    print(\"hello world)\n",
    "                      ^\n",
    "SyntaxError: EOL while scanning string literal\n",
    "``` \n",
    "\n",
    "### Erreur n°3 \"SyntaxError: Missing parentheses ...\"\n",
    "```\n",
    "print \"hello world\"\n",
    "  File \"<stdin>\", line 1\n",
    "    print \"hello world\"\n",
    "          ^\n",
    "SyntaxError: Missing parentheses in call to 'print'. Did you mean print(\"hello world\")?\n",
    "``` "
   ]
  },
  {
   "cell_type": "markdown",
   "metadata": {
    "slideshow": {
     "slide_type": "subslide"
    }
   },
   "source": [
    "## Python : RTFM!\n",
    "\n",
    "En programmation, lire la documentation est essentiel.\n",
    "\n",
    "- pour afficher la documentation d'une fonction, on peut utiliser la fonction `help()` "
   ]
  },
  {
   "cell_type": "code",
   "execution_count": 10,
   "metadata": {
    "slideshow": {
     "slide_type": "fragment"
    }
   },
   "outputs": [
    {
     "name": "stdout",
     "output_type": "stream",
     "text": [
      "Help on built-in function print in module builtins:\n",
      "\n",
      "print(...)\n",
      "    print(value, ..., sep=' ', end='\\n', file=sys.stdout, flush=False)\n",
      "    \n",
      "    Prints the values to a stream, or to sys.stdout by default.\n",
      "    Optional keyword arguments:\n",
      "    file:  a file-like object (stream); defaults to the current sys.stdout.\n",
      "    sep:   string inserted between values, default a space.\n",
      "    end:   string appended after the last value, default a newline.\n",
      "    flush: whether to forcibly flush the stream.\n",
      "\n"
     ]
    }
   ],
   "source": [
    "help(print)"
   ]
  },
  {
   "cell_type": "code",
   "execution_count": 2,
   "metadata": {
    "slideshow": {
     "slide_type": "subslide"
    }
   },
   "outputs": [
    {
     "name": "stdout",
     "output_type": "stream",
     "text": [
      "hey\n",
      "you\n",
      "!\n"
     ]
    }
   ],
   "source": [
    "# les instructions sont executées dans l'ordre :\n",
    "\n",
    "print('hey') # première instruction\n",
    "print('you') # deuxième instruction\n",
    "print('!') # troisième instruction"
   ]
  },
  {
   "cell_type": "markdown",
   "metadata": {
    "slideshow": {
     "slide_type": "slide"
    }
   },
   "source": [
    "# Les variables\n"
   ]
  },
  {
   "cell_type": "markdown",
   "metadata": {
    "slideshow": {
     "slide_type": "fragment"
    }
   },
   "source": [
    "Les variables sont des conteneurs permettant de sauvegarder temporairement des valeurs.\n",
    "\n",
    "👉 une variable porte un `nom`, contient une `valeur` et possède un `type`\n",
    "\n",
    "👉 la valeur et le type d'une variable peuvent changer mais pas son nom."
   ]
  },
  {
   "cell_type": "markdown",
   "metadata": {
    "slideshow": {
     "slide_type": "subslide"
    }
   },
   "source": [
    "## Variable : assignation d'une valeur\n",
    "\n",
    "\n",
    "\n",
    "> `nom_de_variable = \"valeur de la variable\"`\n"
   ]
  },
  {
   "cell_type": "code",
   "execution_count": 18,
   "metadata": {
    "slideshow": {
     "slide_type": "fragment"
    }
   },
   "outputs": [
    {
     "name": "stdout",
     "output_type": "stream",
     "text": [
      "hello, world 1\n",
      "hello, world 2\n"
     ]
    }
   ],
   "source": [
    "print(\"hello, world 1\")  # affichage sans variable\n",
    "\n",
    "var = \"hello, world 2\"  # création de la variable \"var\" contenant une chaine de caractères\n",
    "\n",
    "print(var)  # affichage de la valeur contenu dans la variable \"var\""
   ]
  },
  {
   "cell_type": "code",
   "execution_count": 15,
   "metadata": {
    "slideshow": {
     "slide_type": "fragment"
    }
   },
   "outputs": [
    {
     "name": "stdout",
     "output_type": "stream",
     "text": [
      "world\n"
     ]
    }
   ],
   "source": [
    "varA = \"hello\"  # première assignation de valeur\n",
    "varA = \"world\"  # réassignation d'une nouvelle valeur\n",
    "\n",
    "print(varA)"
   ]
  },
  {
   "cell_type": "markdown",
   "metadata": {
    "slideshow": {
     "slide_type": "subslide"
    }
   },
   "source": [
    "## Variables : nommer une variable \n",
    "\n",
    "👉 le nom de variable doit respecter les règles suivantes : \n",
    "- suite caractères alphanumériques ou \"\\_\" (underscore) en majuscules ou minuscules\n",
    "- ne pas commencer par un chiffre\n",
    "- ne pas contenir de \"-\" (tiret) ou d'espace\n",
    "- ne pas être un `mot réservé` (35 mots-clefs + noms de fonctions built-in)\n",
    "- éviter les caractères non-ASCII (caractès accentués, emoji, etc)\n"
   ]
  },
  {
   "cell_type": "code",
   "execution_count": 12,
   "metadata": {
    "slideshow": {
     "slide_type": "fragment"
    }
   },
   "outputs": [
    {
     "name": "stdout",
     "output_type": "stream",
     "text": [
      "['False', 'None', 'True', 'and', 'as', 'assert', 'async', 'await', 'break', 'class', 'continue', 'def', 'del', 'elif', 'else', 'except', 'finally', 'for', 'from', 'global', 'if', 'import', 'in', 'is', 'lambda', 'nonlocal', 'not', 'or', 'pass', 'raise', 'return', 'try', 'while', 'with', 'yield']\n",
      "35\n"
     ]
    }
   ],
   "source": [
    "import keyword\n",
    "print(keyword.kwlist)"
   ]
  },
  {
   "cell_type": "code",
   "execution_count": 19,
   "metadata": {
    "slideshow": {
     "slide_type": "fragment"
    }
   },
   "outputs": [
    {
     "ename": "TypeError",
     "evalue": "'int' object is not callable",
     "output_type": "error",
     "traceback": [
      "\u001b[0;31m---------------------------------------------------------------------------\u001b[0m",
      "\u001b[0;31mTypeError\u001b[0m                                 Traceback (most recent call last)",
      "\u001b[0;32m<ipython-input-19-e40e8c714048>\u001b[0m in \u001b[0;36m<module>\u001b[0;34m\u001b[0m\n\u001b[1;32m      1\u001b[0m \u001b[0mhelp\u001b[0m \u001b[0;34m=\u001b[0m \u001b[0;36m666\u001b[0m  \u001b[0;31m# on définit une variable nommée \"help\" contenant l'entier 666\u001b[0m\u001b[0;34m\u001b[0m\u001b[0;34m\u001b[0m\u001b[0m\n\u001b[0;32m----> 2\u001b[0;31m \u001b[0mhelp\u001b[0m\u001b[0;34m(\u001b[0m\u001b[0mprint\u001b[0m\u001b[0;34m)\u001b[0m  \u001b[0;31m# le mot \"help\" renvoie désormais à la variable et non plus à la fonction help()\u001b[0m\u001b[0;34m\u001b[0m\u001b[0;34m\u001b[0m\u001b[0m\n\u001b[0m",
      "\u001b[0;31mTypeError\u001b[0m: 'int' object is not callable"
     ]
    }
   ],
   "source": [
    "help = 666  # on définit une variable nommée \"help\" contenant l'entier 666\n",
    "help(print)  # le mot \"help\" renvoie désormais à la variable et non plus à la fonction help()"
   ]
  },
  {
   "cell_type": "markdown",
   "metadata": {
    "slideshow": {
     "slide_type": "skip"
    }
   },
   "source": [
    "## Variables : nommer une variable"
   ]
  },
  {
   "cell_type": "code",
   "execution_count": 4,
   "metadata": {
    "slideshow": {
     "slide_type": "fragment"
    }
   },
   "outputs": [
    {
     "ename": "SyntaxError",
     "evalue": "invalid token (<ipython-input-4-6497af45ade4>, line 2)",
     "output_type": "error",
     "traceback": [
      "\u001b[0;36m  File \u001b[0;32m\"<ipython-input-4-6497af45ade4>\"\u001b[0;36m, line \u001b[0;32m2\u001b[0m\n\u001b[0;31m    1_does_not_work = 'ça ne marche pas'\u001b[0m\n\u001b[0m     ^\u001b[0m\n\u001b[0;31mSyntaxError\u001b[0m\u001b[0;31m:\u001b[0m invalid token\n"
     ]
    }
   ],
   "source": [
    "# ne pas commencer par un chiffre\n",
    "1_does_not_work = 'ça ne marche pas'"
   ]
  },
  {
   "cell_type": "code",
   "execution_count": 5,
   "metadata": {
    "slideshow": {
     "slide_type": "fragment"
    }
   },
   "outputs": [
    {
     "ename": "SyntaxError",
     "evalue": "can't assign to operator (<ipython-input-5-8827f357ee0c>, line 2)",
     "output_type": "error",
     "traceback": [
      "\u001b[0;36m  File \u001b[0;32m\"<ipython-input-5-8827f357ee0c>\"\u001b[0;36m, line \u001b[0;32m2\u001b[0m\n\u001b[0;31m    ma-variable = \"DJ Snake\"\u001b[0m\n\u001b[0m                            ^\u001b[0m\n\u001b[0;31mSyntaxError\u001b[0m\u001b[0;31m:\u001b[0m can't assign to operator\n"
     ]
    }
   ],
   "source": [
    "# ne pas contenir de tiret (-)\n",
    "ma-variable = \"DJ Snake\""
   ]
  },
  {
   "cell_type": "code",
   "execution_count": 6,
   "metadata": {
    "slideshow": {
     "slide_type": "fragment"
    }
   },
   "outputs": [
    {
     "ename": "SyntaxError",
     "evalue": "invalid syntax (<ipython-input-6-53cd3fcbc277>, line 2)",
     "output_type": "error",
     "traceback": [
      "\u001b[0;36m  File \u001b[0;32m\"<ipython-input-6-53cd3fcbc277>\"\u001b[0;36m, line \u001b[0;32m2\u001b[0m\n\u001b[0;31m    ma variable = \"Toujours pas\"\u001b[0m\n\u001b[0m              ^\u001b[0m\n\u001b[0;31mSyntaxError\u001b[0m\u001b[0;31m:\u001b[0m invalid syntax\n"
     ]
    }
   ],
   "source": [
    "# ne pas contenir d'espace\n",
    "ma variable = \"Toujours pas\""
   ]
  },
  {
   "cell_type": "code",
   "execution_count": 7,
   "metadata": {
    "slideshow": {
     "slide_type": "fragment"
    }
   },
   "outputs": [
    {
     "ename": "SyntaxError",
     "evalue": "invalid syntax (<ipython-input-7-40194925f324>, line 1)",
     "output_type": "error",
     "traceback": [
      "\u001b[0;36m  File \u001b[0;32m\"<ipython-input-7-40194925f324>\"\u001b[0;36m, line \u001b[0;32m1\u001b[0m\n\u001b[0;31m    lambda = \"ceci est un mot réservé\"\u001b[0m\n\u001b[0m           ^\u001b[0m\n\u001b[0;31mSyntaxError\u001b[0m\u001b[0;31m:\u001b[0m invalid syntax\n"
     ]
    }
   ],
   "source": [
    "lambda = \"ceci est un mot réservé\""
   ]
  },
  {
   "cell_type": "markdown",
   "metadata": {
    "slideshow": {
     "slide_type": "subslide"
    }
   },
   "source": [
    "## Variables : nommer une variable\n",
    "\n",
    "Il existe deux manières conventionnelles de former des noms de variables contenant plusieurs mots : "
   ]
  },
  {
   "cell_type": "code",
   "execution_count": 8,
   "metadata": {
    "slideshow": {
     "slide_type": "fragment"
    }
   },
   "outputs": [],
   "source": [
    "# le camelCase\n",
    "maVariable = \"Une bosse ou deux bosses ?\" \n",
    "\n",
    "# le snake_case\n",
    "ma_variable = \"DJ Snake\""
   ]
  },
  {
   "cell_type": "markdown",
   "metadata": {
    "slideshow": {
     "slide_type": "fragment"
    }
   },
   "source": [
    "La `PEP 8` recommande d'utiliser \n",
    "- des noms de variables clairs et explicites (`mon_document` plutôt que `var1`)\n",
    "- des noms de variables non ambigus (`varl` et `var1` se ressemblent)\n",
    "\n",
    "👉 https://www.python.org/dev/peps/pep-0008/#naming-conventions"
   ]
  },
  {
   "cell_type": "markdown",
   "metadata": {
    "slideshow": {
     "slide_type": "subslide"
    }
   },
   "source": [
    "## Variable : Python et le typage dynamique\n",
    "\n",
    "Le type d'une variable fait référence au type d'objet / de valeur qu'elle contient. En Python, le `typage` est `dynamique`, contrairement à d'autres programmes, comme C ou Javascript, où on annonce le type d'une variable au moment de sa création.\n",
    "\n",
    "```c\n",
    "// en c\n",
    "int nombre_d_eleves = 20\n",
    "``` \n",
    "\n",
    "```python\n",
    "# en python\n",
    "nombdre_d_eleves = 20\n",
    "``` "
   ]
  },
  {
   "cell_type": "markdown",
   "metadata": {
    "slideshow": {
     "slide_type": "fragment"
    }
   },
   "source": [
    "En Python, si on change la valeur d'une variable par une variable d'un type différent, le type de la varaible change automatiquement.\n",
    "\n",
    "```python\n",
    "mon_chiffre = 7  # variable de type \"int\"\n",
    "mon_chiffre = \"sept\"  # variable de type \"str\"\n",
    "```\n",
    "\n",
    "Pour connaître le type d'une variable, on utilise la fonction built-in `type()` "
   ]
  },
  {
   "cell_type": "code",
   "execution_count": 25,
   "metadata": {
    "slideshow": {
     "slide_type": "fragment"
    }
   },
   "outputs": [
    {
     "name": "stdout",
     "output_type": "stream",
     "text": [
      "7  =  <class 'int'>\n",
      "sept  =  <class 'str'>\n"
     ]
    }
   ],
   "source": [
    "# notez qu'on peut donner plusieurs valeurs à print() en les séparant par une ,\n",
    "\n",
    "mon_chiffre = 7\n",
    "print(mon_chiffre, \" = \", type(mon_chiffre))  \n",
    "\n",
    "mon_chiffre = \"sept\"\n",
    "print(mon_chiffre, \" = \", type(mon_chiffre))"
   ]
  },
  {
   "cell_type": "markdown",
   "metadata": {
    "slideshow": {
     "slide_type": "slide"
    }
   },
   "source": [
    "# Opérations arithmétiques\n"
   ]
  },
  {
   "cell_type": "markdown",
   "metadata": {
    "slideshow": {
     "slide_type": "subslide"
    }
   },
   "source": [
    "## Opérateurs arithmétiques\n",
    "\n",
    "Pour manipuler les variables et les faires intéragir entre elles, on utilise des opérateurs arithmétiques :\n",
    "\n",
    "`+` : addition"
   ]
  },
  {
   "cell_type": "code",
   "execution_count": 27,
   "metadata": {
    "slideshow": {
     "slide_type": "fragment"
    }
   },
   "outputs": [
    {
     "name": "stdout",
     "output_type": "stream",
     "text": [
      "2\n",
      "3.0\n",
      "ab\n"
     ]
    }
   ],
   "source": [
    "addition_int = 1 + 1  # addition de 2 entiers\n",
    "addition_float = 1.0 + 2  # addition d'un décimal et d'un entier\n",
    "addition_str = \"a\" + \"b\"  # addition de deux chaines de caractères\n",
    "\n",
    "print(addition_int, addition_float, addition_str, sep=\"\\n\")"
   ]
  },
  {
   "cell_type": "markdown",
   "metadata": {
    "slideshow": {
     "slide_type": "fragment"
    }
   },
   "source": [
    "`-` : soustraction"
   ]
  },
  {
   "cell_type": "code",
   "execution_count": 30,
   "metadata": {
    "slideshow": {
     "slide_type": "fragment"
    }
   },
   "outputs": [
    {
     "name": "stdout",
     "output_type": "stream",
     "text": [
      "-2\n",
      "4.199999999999999\n"
     ]
    }
   ],
   "source": [
    "substraction_int = 2 - 4  # soustraction de 2 entiers\n",
    "substraction_float = 12.6 - 8.4  # soustraction d'un décimal et d'un entier\n",
    "\n",
    "print(substraction_int, substraction_float, sep=\"\\n\")"
   ]
  },
  {
   "cell_type": "code",
   "execution_count": 31,
   "metadata": {
    "slideshow": {
     "slide_type": "fragment"
    }
   },
   "outputs": [
    {
     "ename": "TypeError",
     "evalue": "unsupported operand type(s) for -: 'str' and 'str'",
     "output_type": "error",
     "traceback": [
      "\u001b[0;31m---------------------------------------------------------------------------\u001b[0m",
      "\u001b[0;31mTypeError\u001b[0m                                 Traceback (most recent call last)",
      "\u001b[0;32m<ipython-input-31-d1c41d5bcf59>\u001b[0m in \u001b[0;36m<module>\u001b[0;34m\u001b[0m\n\u001b[0;32m----> 1\u001b[0;31m \u001b[0msubstraction_str\u001b[0m \u001b[0;34m=\u001b[0m \u001b[0;34m\"hello\"\u001b[0m \u001b[0;34m-\u001b[0m \u001b[0;34m\"world\"\u001b[0m  \u001b[0;31m# on ne peut pas soustraire deux chaines de caractères\u001b[0m\u001b[0;34m\u001b[0m\u001b[0;34m\u001b[0m\u001b[0m\n\u001b[0m",
      "\u001b[0;31mTypeError\u001b[0m: unsupported operand type(s) for -: 'str' and 'str'"
     ]
    }
   ],
   "source": [
    "substraction_str = \"hello\" - \"world\"  # on ne peut pas soustraire deux chaines de caractères"
   ]
  },
  {
   "cell_type": "markdown",
   "metadata": {
    "slideshow": {
     "slide_type": "subslide"
    }
   },
   "source": [
    "`*` : multiplication"
   ]
  },
  {
   "cell_type": "code",
   "execution_count": 37,
   "metadata": {
    "slideshow": {
     "slide_type": "fragment"
    }
   },
   "outputs": [
    {
     "name": "stdout",
     "output_type": "stream",
     "text": [
      "20.0\n",
      "multimultimulti\n"
     ]
    }
   ],
   "source": [
    "multiplication = 2 * 10.0  # multiplication d'un entier et un décimal\n",
    "\n",
    "multiplication_str = \"multi\" * 3  # multiplication d'une chaine de caractère et d'un entier\n",
    "\n",
    "print(multiplication, multiplication_str, sep=\"\\n\")"
   ]
  },
  {
   "cell_type": "markdown",
   "metadata": {
    "slideshow": {
     "slide_type": "fragment"
    }
   },
   "source": [
    "`/`, `%` et `//` : division"
   ]
  },
  {
   "cell_type": "code",
   "execution_count": 16,
   "metadata": {
    "slideshow": {
     "slide_type": "fragment"
    }
   },
   "outputs": [
    {
     "name": "stdout",
     "output_type": "stream",
     "text": [
      "5.142857142857143\n",
      "5\n",
      "1.0\n",
      "1\n"
     ]
    }
   ],
   "source": [
    "division = 36 / 7  # la division de 2 entiers produit toujours un décimal\n",
    "division_tronquée = 36 // 7  # une division tronquée produit toujours un entier\n",
    "reste_decimal = 36 % 7.0\n",
    "reste_entier = 36 % 7\n",
    "\n",
    "print(division, division_tronquée, reste_decimal, reste_entier, sep=\"\\n\")"
   ]
  },
  {
   "cell_type": "code",
   "execution_count": 20,
   "metadata": {
    "slideshow": {
     "slide_type": "fragment"
    }
   },
   "outputs": [
    {
     "ename": "TypeError",
     "evalue": "unsupported operand type(s) for //: 'str' and 'int'",
     "output_type": "error",
     "traceback": [
      "\u001b[0;31m---------------------------------------------------------------------------\u001b[0m",
      "\u001b[0;31mTypeError\u001b[0m                                 Traceback (most recent call last)",
      "\u001b[0;32m<ipython-input-20-0e24fe7ac070>\u001b[0m in \u001b[0;36m<module>\u001b[0;34m\u001b[0m\n\u001b[0;32m----> 1\u001b[0;31m \u001b[0mdivision_string\u001b[0m \u001b[0;34m=\u001b[0m \u001b[0;34m\"blabla\"\u001b[0m \u001b[0;34m//\u001b[0m \u001b[0;36m2\u001b[0m\u001b[0;34m\u001b[0m\u001b[0;34m\u001b[0m\u001b[0m\n\u001b[0m",
      "\u001b[0;31mTypeError\u001b[0m: unsupported operand type(s) for //: 'str' and 'int'"
     ]
    }
   ],
   "source": [
    "division_string = \"blabla\" // 2  # on ne peut pas diviser une chaine de caractères"
   ]
  },
  {
   "cell_type": "markdown",
   "metadata": {
    "slideshow": {
     "slide_type": "subslide"
    }
   },
   "source": [
    "`**` : exposant"
   ]
  },
  {
   "cell_type": "code",
   "execution_count": 21,
   "metadata": {
    "slideshow": {
     "slide_type": "fragment"
    }
   },
   "outputs": [
    {
     "data": {
      "text/plain": [
       "10000"
      ]
     },
     "execution_count": 21,
     "metadata": {},
     "output_type": "execute_result"
    }
   ],
   "source": [
    "10 ** 4  # 10^4"
   ]
  },
  {
   "cell_type": "markdown",
   "metadata": {
    "slideshow": {
     "slide_type": "fragment"
    }
   },
   "source": [
    "Comme en mathématiques, les parenthèses `()` permettent de définir les **priorités** : "
   ]
  },
  {
   "cell_type": "code",
   "execution_count": 22,
   "metadata": {
    "slideshow": {
     "slide_type": "fragment"
    }
   },
   "outputs": [
    {
     "name": "stdout",
     "output_type": "stream",
     "text": [
      "54.0\n",
      "6.0\n"
     ]
    }
   ],
   "source": [
    "sans_parenthese = 36 / 2 * 3\n",
    "avec_parenthese = 36 / (2 * 3)\n",
    "print(sans_parenthese, avec_parenthese, sep=\"\\n\")"
   ]
  },
  {
   "cell_type": "markdown",
   "metadata": {
    "slideshow": {
     "slide_type": "subslide"
    }
   },
   "source": [
    "On ne peut pas `concaténer` certains types :"
   ]
  },
  {
   "cell_type": "code",
   "execution_count": 25,
   "metadata": {
    "slideshow": {
     "slide_type": "fragment"
    }
   },
   "outputs": [
    {
     "ename": "TypeError",
     "evalue": "can only concatenate str (not \"int\") to str",
     "output_type": "error",
     "traceback": [
      "\u001b[0;31m---------------------------------------------------------------------------\u001b[0m",
      "\u001b[0;31mTypeError\u001b[0m                                 Traceback (most recent call last)",
      "\u001b[0;32m<ipython-input-25-3baee1551631>\u001b[0m in \u001b[0;36m<module>\u001b[0;34m\u001b[0m\n\u001b[0;32m----> 1\u001b[0;31m \u001b[0;34m\"hello\"\u001b[0m \u001b[0;34m+\u001b[0m \u001b[0;36m42\u001b[0m\u001b[0;34m\u001b[0m\u001b[0;34m\u001b[0m\u001b[0m\n\u001b[0m",
      "\u001b[0;31mTypeError\u001b[0m: can only concatenate str (not \"int\") to str"
     ]
    }
   ],
   "source": [
    "\"hello\" + 42"
   ]
  },
  {
   "cell_type": "markdown",
   "metadata": {
    "slideshow": {
     "slide_type": "fragment"
    }
   },
   "source": [
    "Tandis que d'autres types de donées sont plus souples :"
   ]
  },
  {
   "cell_type": "code",
   "execution_count": 28,
   "metadata": {
    "slideshow": {
     "slide_type": "fragment"
    }
   },
   "outputs": [
    {
     "data": {
      "text/plain": [
       "18.21"
      ]
     },
     "execution_count": 28,
     "metadata": {},
     "output_type": "execute_result"
    }
   ],
   "source": [
    "15 + 3.21"
   ]
  },
  {
   "cell_type": "markdown",
   "metadata": {
    "slideshow": {
     "slide_type": "slide"
    }
   },
   "source": [
    "# Convertir des objets\n",
    "\n",
    "\n",
    "- `str()` \n",
    "- `int()`\n",
    "- `float()`"
   ]
  },
  {
   "cell_type": "code",
   "execution_count": 58,
   "metadata": {
    "slideshow": {
     "slide_type": "fragment"
    }
   },
   "outputs": [],
   "source": [
    "var_int = 4\n",
    "var_float = 18.21\n",
    "var_bool = False\n",
    "var_str = \"soixante\""
   ]
  },
  {
   "cell_type": "markdown",
   "metadata": {
    "slideshow": {
     "slide_type": "subslide"
    }
   },
   "source": [
    "## `str()`"
   ]
  },
  {
   "cell_type": "code",
   "execution_count": 59,
   "metadata": {
    "slideshow": {
     "slide_type": "fragment"
    }
   },
   "outputs": [
    {
     "name": "stdout",
     "output_type": "stream",
     "text": [
      "<class 'int'> ==> <class 'str'>\n",
      "<class 'bool'> ==> <class 'str'>\n",
      "<class 'float'> ==> <class 'str'>\n"
     ]
    }
   ],
   "source": [
    "# str() : transformer en chaîne de caractères\n",
    "print(type(var_int), type(str(var_int)), sep = \" ==> \")\n",
    "print(type(var_bool), type(str(var_bool)), sep = \" ==> \")\n",
    "print(type(56.5), type(str(56.5)), sep = \" ==> \")"
   ]
  },
  {
   "cell_type": "markdown",
   "metadata": {
    "slideshow": {
     "slide_type": "subslide"
    }
   },
   "source": [
    "## `int()`"
   ]
  },
  {
   "cell_type": "code",
   "execution_count": 60,
   "metadata": {
    "slideshow": {
     "slide_type": "fragment"
    }
   },
   "outputs": [
    {
     "name": "stdout",
     "output_type": "stream",
     "text": [
      "<class 'float'> ==> <class 'int'>\n",
      "<class 'float'> ==> <class 'int'>\n",
      "<class 'str'> ==> <class 'int'>\n"
     ]
    }
   ],
   "source": [
    "# int() : transformer en entier\n",
    "print(type(var_float), type(int(var_float)), sep = \" ==> \")\n",
    "print(type(56.5), type(int(56.5)), sep = \" ==> \")\n",
    "print(type(\"42\"), type(int(\"42\")), sep = \" ==> \")"
   ]
  },
  {
   "cell_type": "code",
   "execution_count": 61,
   "metadata": {
    "slideshow": {
     "slide_type": "fragment"
    }
   },
   "outputs": [
    {
     "name": "stdout",
     "output_type": "stream",
     "text": [
      "<class 'bool'> ==> <class 'int'>\n",
      "False ==> 0\n"
     ]
    }
   ],
   "source": [
    "# spécificité quand on transforme un booléen en entier\n",
    "print(type(var_bool), type(int(var_bool)), sep = \" ==> \")\n",
    "print(var_bool, int(var_bool), sep = \" ==> \")"
   ]
  },
  {
   "cell_type": "code",
   "execution_count": 63,
   "metadata": {
    "slideshow": {
     "slide_type": "fragment"
    }
   },
   "outputs": [
    {
     "ename": "ValueError",
     "evalue": "invalid literal for int() with base 10: 'soixante'",
     "output_type": "error",
     "traceback": [
      "\u001b[0;31m---------------------------------------------------------------------------\u001b[0m",
      "\u001b[0;31mValueError\u001b[0m                                Traceback (most recent call last)",
      "\u001b[0;32m<ipython-input-63-3a384075590f>\u001b[0m in \u001b[0;36m<module>\u001b[0;34m\u001b[0m\n\u001b[1;32m      1\u001b[0m \u001b[0;31m# toutes les chaines de caractères ne sont pas convertibles en entiers\u001b[0m\u001b[0;34m\u001b[0m\u001b[0;34m\u001b[0m\u001b[0;34m\u001b[0m\u001b[0m\n\u001b[0;32m----> 2\u001b[0;31m \u001b[0mprint\u001b[0m\u001b[0;34m(\u001b[0m\u001b[0mtype\u001b[0m\u001b[0;34m(\u001b[0m\u001b[0mvar_str\u001b[0m\u001b[0;34m)\u001b[0m\u001b[0;34m,\u001b[0m \u001b[0mtype\u001b[0m\u001b[0;34m(\u001b[0m\u001b[0mint\u001b[0m\u001b[0;34m(\u001b[0m\u001b[0mvar_str\u001b[0m\u001b[0;34m)\u001b[0m\u001b[0;34m)\u001b[0m\u001b[0;34m,\u001b[0m \u001b[0msep\u001b[0m \u001b[0;34m=\u001b[0m \u001b[0;34m\" ==> \"\u001b[0m\u001b[0;34m)\u001b[0m\u001b[0;34m\u001b[0m\u001b[0;34m\u001b[0m\u001b[0m\n\u001b[0m",
      "\u001b[0;31mValueError\u001b[0m: invalid literal for int() with base 10: 'soixante'"
     ]
    }
   ],
   "source": [
    "# toutes les chaines de caractères ne sont pas convertibles en entiers\n",
    "print(type(var_str), type(int(var_str)), sep = \" ==> \")"
   ]
  },
  {
   "cell_type": "markdown",
   "metadata": {
    "slideshow": {
     "slide_type": "subslide"
    }
   },
   "source": [
    "## `float()`"
   ]
  },
  {
   "cell_type": "code",
   "execution_count": 71,
   "metadata": {
    "slideshow": {
     "slide_type": "fragment"
    }
   },
   "outputs": [
    {
     "name": "stdout",
     "output_type": "stream",
     "text": [
      "<class 'int'> ==> <class 'float'>\n",
      "<class 'str'> ==> <class 'float'>\n"
     ]
    }
   ],
   "source": [
    "# float() : transformer en décimal\n",
    "print(type(var_int), type(float(var_int)), sep=\" ==> \")\n",
    "print(type(\"42\"), type(float(\"42\")), sep = \" ==> \")"
   ]
  },
  {
   "cell_type": "code",
   "execution_count": 72,
   "metadata": {},
   "outputs": [
    {
     "name": "stdout",
     "output_type": "stream",
     "text": [
      "<class 'bool'> ==> <class 'float'>\n",
      "False ==> 0.0\n"
     ]
    }
   ],
   "source": [
    "# spécificité quand on transforme un booléen en décimal\n",
    "print(type(var_bool), type(float(var_bool)), sep = \" ==> \")\n",
    "print(var_bool, float(var_bool), sep = \" ==> \")"
   ]
  },
  {
   "cell_type": "code",
   "execution_count": 73,
   "metadata": {
    "slideshow": {
     "slide_type": "fragment"
    }
   },
   "outputs": [
    {
     "ename": "ValueError",
     "evalue": "could not convert string to float: 'soixante'",
     "output_type": "error",
     "traceback": [
      "\u001b[0;31m---------------------------------------------------------------------------\u001b[0m",
      "\u001b[0;31mValueError\u001b[0m                                Traceback (most recent call last)",
      "\u001b[0;32m<ipython-input-73-340baff32a83>\u001b[0m in \u001b[0;36m<module>\u001b[0;34m\u001b[0m\n\u001b[0;32m----> 1\u001b[0;31m \u001b[0mprint\u001b[0m\u001b[0;34m(\u001b[0m\u001b[0mtype\u001b[0m\u001b[0;34m(\u001b[0m\u001b[0mvar_str\u001b[0m\u001b[0;34m)\u001b[0m\u001b[0;34m,\u001b[0m \u001b[0mtype\u001b[0m\u001b[0;34m(\u001b[0m\u001b[0mfloat\u001b[0m\u001b[0;34m(\u001b[0m\u001b[0mvar_str\u001b[0m\u001b[0;34m)\u001b[0m\u001b[0;34m)\u001b[0m\u001b[0;34m,\u001b[0m \u001b[0msep\u001b[0m \u001b[0;34m=\u001b[0m \u001b[0;34m\" ==> \"\u001b[0m\u001b[0;34m)\u001b[0m\u001b[0;34m\u001b[0m\u001b[0;34m\u001b[0m\u001b[0m\n\u001b[0m",
      "\u001b[0;31mValueError\u001b[0m: could not convert string to float: 'soixante'"
     ]
    }
   ],
   "source": [
    "print(type(var_str), type(float(var_str)), sep = \" ==> \")"
   ]
  },
  {
   "cell_type": "markdown",
   "metadata": {
    "slideshow": {
     "slide_type": "subslide"
    }
   },
   "source": [
    "## `bool()` "
   ]
  },
  {
   "cell_type": "code",
   "execution_count": 82,
   "metadata": {
    "slideshow": {
     "slide_type": "fragment"
    }
   },
   "outputs": [
    {
     "name": "stdout",
     "output_type": "stream",
     "text": [
      "<class 'float'> ==> <class 'bool'>\n",
      "<class 'int'> ==> <class 'bool'>\n",
      "<class 'str'> ==> <class 'bool'>\n"
     ]
    }
   ],
   "source": [
    "# bool() : transformer en booléen\n",
    "print(type(var_float), type(bool(var_float)), sep=\" ==> \")\n",
    "\n",
    "print(type(var_int), type(bool(var_int)), sep=\" ==> \")\n",
    "\n",
    "print(type(var_str), type(bool(var_str)), sep = \" ==> \")"
   ]
  },
  {
   "cell_type": "code",
   "execution_count": 85,
   "metadata": {
    "slideshow": {
     "slide_type": "subslide"
    }
   },
   "outputs": [
    {
     "name": "stdout",
     "output_type": "stream",
     "text": [
      "<class 'float'> ==> <class 'bool'>\n",
      "18.21 ==> True\n",
      "<class 'int'> ==> <class 'bool'>\n",
      "4 ==> True\n",
      "<class 'str'> ==> <class 'bool'>\n",
      "soixante ==> True\n"
     ]
    }
   ],
   "source": [
    "# Mais quel booléen ?\n",
    "print(type(var_float), type(bool(var_float)), sep=\" ==> \")\n",
    "print(var_float, bool(var_float), sep=\" ==> \")\n",
    "\n",
    "print(type(var_int), type(bool(var_int)), sep=\" ==> \")\n",
    "print(var_int, bool(var_int), sep=\" ==> \")\n",
    "\n",
    "print(type(var_str), type(bool(var_str)), sep = \" ==> \")\n",
    "print(var_str, bool(var_str), sep = \" ==> \")"
   ]
  },
  {
   "cell_type": "code",
   "execution_count": 84,
   "metadata": {
    "slideshow": {
     "slide_type": "fragment"
    }
   },
   "outputs": [
    {
     "name": "stdout",
     "output_type": "stream",
     "text": [
      "<class 'str'> ==> <class 'bool'>\n",
      "False ==> True\n",
      "<class 'str'> ==> <class 'bool'>\n",
      " ==> False\n",
      "<class 'int'> ==> <class 'bool'>\n",
      "0 ==> False\n",
      "<class 'NoneType'> ==> <class 'bool'>\n",
      "None ==> False\n"
     ]
    }
   ],
   "source": [
    "# A quel moments obtient-on \"False\"\n",
    "print(type(\"False\"), type(bool(\"False\")), sep = \" ==> \")\n",
    "print(\"False\", bool(\"False\"), sep = \" ==> \")\n",
    "\n",
    "print(type(\"\"), type(bool(\"\")), sep = \" ==> \")\n",
    "print(\"\", bool(\"\"), sep = \" ==> \")\n",
    "\n",
    "print(type(0), type(bool(0)), sep = \" ==> \")\n",
    "print(0, bool(0), sep = \" ==> \")\n",
    "\n",
    "print(type(None), type(bool(None)), sep = \" ==> \")\n",
    "print(None, bool(None), sep = \" ==> \")"
   ]
  },
  {
   "cell_type": "markdown",
   "metadata": {
    "slideshow": {
     "slide_type": "slide"
    }
   },
   "source": [
    "# Exercices"
   ]
  },
  {
   "cell_type": "markdown",
   "metadata": {
    "slideshow": {
     "slide_type": "fragment"
    }
   },
   "source": [
    "### 👉 https://repl.it/languages/python3"
   ]
  },
  {
   "cell_type": "markdown",
   "metadata": {
    "slideshow": {
     "slide_type": "subslide"
    }
   },
   "source": [
    "## Exercice 1 \n",
    "\n",
    "En utilisant des opérateurs arithmétiques et une variable, écrivez un algorithme permettant d'obtenir l'affichage suivant : \n",
    "\n",
    "```\n",
    "3 x 0 = 0\n",
    "3 x 1 = 3\n",
    "3 x 2 = 6\n",
    "3 x 3 = 9\n",
    "3 x 4 = 12\n",
    "3 x 5 = 15\n",
    "```"
   ]
  },
  {
   "cell_type": "markdown",
   "metadata": {
    "slideshow": {
     "slide_type": "subslide"
    }
   },
   "source": [
    "## Exercice 2\n",
    "\n",
    "Ecrivez un script Python appliquant l'algorithme de l'exercice 1."
   ]
  },
  {
   "cell_type": "markdown",
   "metadata": {
    "slideshow": {
     "slide_type": "subslide"
    }
   },
   "source": [
    "## Exercice 3\n",
    "\n",
    "**A.** Ecrire un algorithme pour un programme permettant de créer automatiquement un pseudo à partir du nom, du prénom et de la longueur de ces deux éléments.\n",
    "\n",
    "Vous pouvez également varier en utilisant la date de naissance de l'utilisateur-rice."
   ]
  },
  {
   "cell_type": "markdown",
   "metadata": {
    "slideshow": {
     "slide_type": "fragment"
    }
   },
   "source": [
    "**B.** Rédiger ce programme en Python, étant donné que : \n",
    "- `input()` permet de demander à l'utilisateur-rice d'entrée un valeur\n",
    "- `len()` permet de connaître la taille d'une valeur"
   ]
  }
 ],
 "metadata": {
  "celltoolbar": "Slideshow",
  "kernelspec": {
   "display_name": "Python 3",
   "language": "python",
   "name": "python3"
  },
  "language_info": {
   "codemirror_mode": {
    "name": "ipython",
    "version": 3
   },
   "file_extension": ".py",
   "mimetype": "text/x-python",
   "name": "python",
   "nbconvert_exporter": "python",
   "pygments_lexer": "ipython3",
   "version": "3.7.3"
  }
 },
 "nbformat": 4,
 "nbformat_minor": 4
}
