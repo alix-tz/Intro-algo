{
 "cells": [
  {
   "cell_type": "markdown",
   "metadata": {
    "slideshow": {
     "slide_type": "slide"
    }
   },
   "source": [
    "# Introduction à l'Algorithmie et à Python III\n",
    "\n",
    "\n",
    "📌 Ecole nationale des chartes, Master TNAH, 2020\n",
    "\n",
    "---\n",
    "\n",
    "\n",
    "#### Alix Chagué\n",
    "\n",
    "\n",
    "📫 [alix.chague@inria.fr](mailto:alix.chague@inria.fr)  \n",
    "\n",
    "💼 *Ingénieure Recherche et Développement* @ Inria\n",
    "\n",
    "| | |\n",
    "| :---: | :---: |\n",
    "| ![inria](../../images/inria.png) | ![inria](../../images/enc_logo.png) |"
   ]
  },
  {
   "cell_type": "markdown",
   "metadata": {
    "slideshow": {
     "slide_type": "subslide"
    }
   },
   "source": [
    "### *Crédits*\n",
    "\n",
    "> Librement inspiré des [supports de cours](https://github.com/gguibon/essec-python-1) de Gaël Guibon  \n",
    "> Librement inspiré des [supports de cours](https://goo.gl/UFqu2U) de Julien Pilla\n",
    "\n",
    "> Retrouver l'ensemble du cours sur 👉 [**github.com/alix-tz/enc-intro-algo**](https://github.com/alix-tz/enc-intro-algo)👈"
   ]
  },
  {
   "cell_type": "markdown",
   "metadata": {
    "slideshow": {
     "slide_type": "slide"
    }
   },
   "source": [
    "# Syllabus"
   ]
  },
  {
   "cell_type": "markdown",
   "metadata": {
    "slideshow": {
     "slide_type": "subslide"
    }
   },
   "source": [
    "## Récapitulatif\n",
    "\n",
    "- variables (nom, affectation de valeur, type)\n",
    "- fonctions built-ins et mots réservés\n",
    "- opérations arithmétiques et retypage\n",
    "- comparer des valeurs\n",
    "- opérateurs booléens\n",
    "- conditions (si... alors)\n",
    "- répétition (tant que / répéter x fois)"
   ]
  },
  {
   "cell_type": "markdown",
   "metadata": {
    "slideshow": {
     "slide_type": "subslide"
    }
   },
   "source": [
    "## Plan du cours\n",
    "\n",
    "- Syllabus\n",
    "- Fonctions\n",
    "- Import et modules\n",
    "- Nouveau type : listes\n",
    "- Nouveau type : dictionnaires (et tuples)\n",
    "- Aller plus loin"
   ]
  },
  {
   "cell_type": "markdown",
   "metadata": {
    "slideshow": {
     "slide_type": "subslide"
    }
   },
   "source": [
    "## Liens utiles\n",
    "\n",
    "👉 Simulateur d'environnement Python en mode pseudo-IDE : https://repl.it/languages/python3\n",
    "\n",
    "👉 Simulateur d'environnement Python en mode console : https://www.python.org/shell/\n",
    "\n",
    "👉 Documation officielle de Python : https://docs.python.org/3/\n",
    "\n",
    "👉 Visualisateur d'execution de code Python : http://pythontutor.com/"
   ]
  },
  {
   "cell_type": "markdown",
   "metadata": {
    "slideshow": {
     "slide_type": "subslide"
    }
   },
   "source": [
    "## Quelques ressources pour continuer à se former\n",
    "\n",
    "👉 \"Automate the Boring Stuff with Python\" (`en`) : https://automatetheboringstuff.com/\n",
    "\n",
    "👉 Leçons dédiées à Python sur *Programming Historian* (`en`, `fr` ou `es`) : https://programminghistorian.org/en/lessons/introduction-and-installation\n",
    "\n",
    "👉 \"Apprendre à coder avec Python\", MOOC de l'Université Libre de Bruxelles (`fr`) : https://www.fun-mooc.fr/courses/course-v1:ulb+44013+session04/about\n",
    "\n",
    "👉 \"Apprenez à programmer en Python\", cours en ligne sur OpenClassroom (`fr`) : https://openclassrooms.com/fr/courses/235344-apprenez-a-programmer-en-python\n",
    "\n",
    "👉 \"Introduction à Python\" pour le Master Ingénierie Multilingue de l'Inalco, Loïc Grobol et Yoann Dupont (`fr`) :  https://loicgrobol.github.io/python-im/m2-2018/\n"
   ]
  },
  {
   "cell_type": "markdown",
   "metadata": {
    "slideshow": {
     "slide_type": "slide"
    }
   },
   "source": [
    "# Fonctions"
   ]
  },
  {
   "cell_type": "markdown",
   "metadata": {
    "slideshow": {
     "slide_type": "subslide"
    }
   },
   "source": [
    "Une `fonction` est une suite d'instructions rassemblées sous un nom et que l'on peut appeler dans un programme. On dit qu'une fonction renvoie ou `retourne` une valeur une fois que l'ensemble des instructions qu'elle contient ont été exécutés. Cette valeur peut être nulle (`None`) ou essentielle à l'exécution du reste du programme.\n",
    "\n",
    "Il existe des fonctions `built-in` (`print()`) mais l'utilisatrice peut aussi créer ses propres fonctions, souvent pour simplifier le code en créant des unités logiques.\n",
    "\n",
    "Pour créer une fonction, on utilise le mot-clef `def` suivi du nom que l'on souhaite donner à la fonction, suivi de parenthèses puis de deux points (`():`). Pour mettre fin à la déclaration de la fonction, on utilise le mot-clef `return`. Il peut être suivi d'une valeur ou être utilisé seul\n",
    "\n",
    "Les instructions décrites à l'intérieur d'une fonction ne sont pas exécutées tant que la fonction n'est pas appelée. Pour `appeler une fonction` on utilise son nom, suivi de parenthèses. Une fonction peut appeler une autre fonction."
   ]
  },
  {
   "cell_type": "markdown",
   "metadata": {
    "slideshow": {
     "slide_type": "subslide"
    }
   },
   "source": [
    "## Exemple 1\n",
    "\n",
    "Je crée une fonction nommée *dit_coucou* dont le seul but est d'afficher \"Coucou !\". "
   ]
  },
  {
   "cell_type": "code",
   "execution_count": 6,
   "metadata": {},
   "outputs": [
    {
     "name": "stdout",
     "output_type": "stream",
     "text": [
      "Coucou !\n"
     ]
    }
   ],
   "source": [
    "# je crée une fonction\n",
    "def dit_coucou():\n",
    "    print(\"Coucou !\")\n",
    "    return\n",
    "    \n",
    "# j'appelle la fonction\n",
    "dit_coucou()"
   ]
  },
  {
   "cell_type": "markdown",
   "metadata": {
    "slideshow": {
     "slide_type": "subslide"
    }
   },
   "source": [
    "## Précision sur les renvois\n",
    "\n",
    "En Python, les trois déclarations suivantes mènent au même résultat : "
   ]
  },
  {
   "cell_type": "code",
   "execution_count": 7,
   "metadata": {
    "slideshow": {
     "slide_type": "-"
    }
   },
   "outputs": [],
   "source": [
    "def dit_coucou():\n",
    "    print(\"Coucou !\")\n",
    "    return None\n",
    "\n",
    "def dit_coucou():\n",
    "    print(\"Coucou !\")\n",
    "    return\n",
    "\n",
    "def dit_coucou():\n",
    "    print(\"Coucou !\")"
   ]
  },
  {
   "cell_type": "markdown",
   "metadata": {},
   "source": [
    "Cela signifie qu'en Python, le mot-clef `return` n'est pas obligatoire si l'on ne renvoie pas de valeur à la fin de la fonction. En fait, la fin de l'indentation suffit à signaler la fin de la déclaration de la fonction."
   ]
  },
  {
   "cell_type": "markdown",
   "metadata": {
    "slideshow": {
     "slide_type": "subslide"
    }
   },
   "source": [
    "Quand une fonction renvoie une valeur, on peut la stocker dans une variable pour l'utiliser ensuite."
   ]
  },
  {
   "cell_type": "code",
   "execution_count": 8,
   "metadata": {},
   "outputs": [
    {
     "name": "stdout",
     "output_type": "stream",
     "text": [
      "6\n"
     ]
    }
   ],
   "source": [
    "def combien_font_trois_plus_trois():\n",
    "    return 3 + 3\n",
    "\n",
    "resultat = combien_font_trois_plus_trois()  # on peut stocker le résultat\n",
    "print(combien_font_trois_plus_trois())  # ou interagir avec directement"
   ]
  },
  {
   "cell_type": "markdown",
   "metadata": {
    "slideshow": {
     "slide_type": "subslide"
    }
   },
   "source": [
    "## Arguments\n",
    "\n",
    "Les parenthèses ne sont pas ici pour faire joli. Comme avec les fonctions en mathématiques, elles servent à faire passer une ou plusieurs valeurs (`arguments` ou `paramètres`) qui seront utilisées pour exécutées les instructions définies dans la fonction.\n",
    "\n",
    "Les arguments sont en quelque sorte des variables qui n'existent que durant le temps d'exécution de la fonction. Pour déginer ce phénomène, on parle de la portée (`scope`) d'une variable."
   ]
  },
  {
   "cell_type": "code",
   "execution_count": 9,
   "metadata": {},
   "outputs": [
    {
     "name": "stdout",
     "output_type": "stream",
     "text": [
      "Coucou Alix !\n"
     ]
    }
   ],
   "source": [
    "def dit_moi_coucou(nom):\n",
    "    print(\"Coucou\", nom, \"!\")\n",
    "    \n",
    "mon_prenom = \"Alix\"\n",
    "dit_moi_coucou(mon_prenom)"
   ]
  },
  {
   "cell_type": "markdown",
   "metadata": {
    "slideshow": {
     "slide_type": "subslide"
    }
   },
   "source": [
    "Si j'essaie de faire appel à la variable nom en dehors du bloc de définition de la fonction \"dit_moi_coucou\", ça ne fonctionne pas"
   ]
  },
  {
   "cell_type": "code",
   "execution_count": 10,
   "metadata": {},
   "outputs": [
    {
     "ename": "NameError",
     "evalue": "name 'nom' is not defined",
     "output_type": "error",
     "traceback": [
      "\u001b[1;31m---------------------------------------------------------------------------\u001b[0m",
      "\u001b[1;31mNameError\u001b[0m                                 Traceback (most recent call last)",
      "\u001b[1;32m<ipython-input-10-c427005c1d14>\u001b[0m in \u001b[0;36m<module>\u001b[1;34m\u001b[0m\n\u001b[1;32m----> 1\u001b[1;33m \u001b[0mprint\u001b[0m\u001b[1;33m(\u001b[0m\u001b[0mnom\u001b[0m\u001b[1;33m)\u001b[0m\u001b[1;33m\u001b[0m\u001b[1;33m\u001b[0m\u001b[0m\n\u001b[0m",
      "\u001b[1;31mNameError\u001b[0m: name 'nom' is not defined"
     ]
    }
   ],
   "source": [
    "print(nom)"
   ]
  },
  {
   "cell_type": "markdown",
   "metadata": {
    "slideshow": {
     "slide_type": "subslide"
    }
   },
   "source": [
    "## Récapitulons\n",
    "\n",
    "On a parlé de `définition de fonction`, d'`appel de fonction`, d'`arguments`, de `renvois` et de `scope`.\n",
    "\n",
    "![illustration de la définition d'une fonction](../../images/deffunction.Png)"
   ]
  },
  {
   "cell_type": "markdown",
   "metadata": {
    "slideshow": {
     "slide_type": "subslide"
    }
   },
   "source": [
    "## Exemple 2\n"
   ]
  },
  {
   "cell_type": "code",
   "execution_count": 11,
   "metadata": {},
   "outputs": [
    {
     "name": "stdout",
     "output_type": "stream",
     "text": [
      "la variable | <class 'str'> | Query\n",
      "C'est fait!\n"
     ]
    }
   ],
   "source": [
    "def afficher_lavariable_son_type_et_sa_valeur(lavariable):\n",
    "    print(\"la variable\", type(lavariable), lavariable, sep=\" | \")\n",
    "    return \"C'est fait!\"\n",
    "\n",
    "le_nom_de_mon_chat = \"Query\"\n",
    "print(afficher_lavariable_son_type_et_sa_valeur(le_nom_de_mon_chat))"
   ]
  },
  {
   "cell_type": "markdown",
   "metadata": {},
   "source": [
    "1. Je crée une fonction, dont le nom est très (trop) explicite, intitulée *afficher_lavariable_son_type_et_sa_valeur()*\n",
    "  - Cette fonction `reçoit` une valeur dans une variable nommée *lavariable*\n",
    "  - La fonction prévoit l'affichage de la chaîne de caractères \"la variable\", du type de la valeur contenue dans la variable *lavariable*, puis de cette valeur, le tout séparé par \"|'\n",
    "  - Arrivée à la fin des instructions prévues dans cette fonction, la fonction retournera une chaîne de caractères contenant \"C'est fait!\"\n",
    "2. Je crée une variable *le_nom_de_mon_chat* qui contient la chaîne de caractères \"Query\"\n",
    "3. Je passe la valeur contenue dans la *le_nom_de_mon_chat* à la fonction *afficher_lavariable_son_type_et_sa_valeur()*  et j'affiche la valeur retournée"
   ]
  },
  {
   "cell_type": "markdown",
   "metadata": {
    "slideshow": {
     "slide_type": "subslide"
    }
   },
   "source": [
    "## A quel moment choisit-on de définir une fonction ?\n",
    "\n",
    "Il n'y a pas de règle qui définit qu'à tel ou tel moment il *faut* créer une fonction. C'est une affaire de pratique, de choix dans l'organisation du code et de lisibilité de celui-ci. \n",
    "\n",
    "Souvent, on fait une fonction pour un ensemble logique d'actions. \n",
    "> Par [exemple dans un programme qui génère des tweets illustrés](https://github.com/alix-tz/lebotde7lieux/blob/master/botde7lieux.py#L229), une fonction crée un texte et une image, une fonction enregistre l'image localement, une fonction envoie le texte et l'image sur Twitter. Décomposer ainsi le code permet faire ressortir les grandes étapes de traitement.\n",
    "\n",
    "Souvent, aussi, on crée une fonction que l'on réutilisera par la suite dans d'autres projets, on évite ainsi de recréer un élément du code qu'on a déjà rédigé. \n",
    "> Par [exemple](https://github.com/alix-tz/aspyre-gt/blob/master/aspyre/utils/utils.py#L87), une fonction pour lister l'ensemble des fichiers contenus dans un dossier."
   ]
  },
  {
   "cell_type": "markdown",
   "metadata": {
    "slideshow": {
     "slide_type": "subslide"
    }
   },
   "source": [
    "## Organisation du code\n",
    "\n",
    "Pour faciliter la lecture d'un script, on rassemble l'ensemble des définitions de fonction ***avant*** de passer au groupe d'instruction principal, qui contiendra les appels de fonction. \n",
    "\n",
    "```\n",
    "# définition de la fonction 1\n",
    "# définition de la fonction 2\n",
    "# définition de la fonction 3\n",
    "# --------\n",
    "# instructions\n",
    "# appel de la fonction 1\n",
    "# instructions\n",
    "# appel de la fonction 1\n",
    "# appel de la fonction 3\n",
    "# instructions\n",
    "# appel de la fonction 2\n",
    "```\n"
   ]
  },
  {
   "cell_type": "markdown",
   "metadata": {
    "slideshow": {
     "slide_type": "subslide"
    }
   },
   "source": [
    "## Exercices pratiques\n",
    "\n",
    "Faire les X exercices du fichier fonctions.py\n",
    "\n",
    "### 👉 https://repl.it/@AlixChagu/ENCintroalgo#basics/fonctions.py"
   ]
  },
  {
   "cell_type": "code",
   "execution_count": null,
   "metadata": {
    "slideshow": {
     "slide_type": "-"
    }
   },
   "outputs": [],
   "source": []
  },
  {
   "cell_type": "markdown",
   "metadata": {
    "slideshow": {
     "slide_type": "slide"
    }
   },
   "source": [
    "# *Libraries*, imports et modules"
   ]
  },
  {
   "cell_type": "markdown",
   "metadata": {
    "slideshow": {
     "slide_type": "slide"
    }
   },
   "source": [
    "## Importer des fonctions externes\n",
    "\n",
    "A part les fonctions built-ins et les fonctions créées de toute pièce, il est possible d'utiliser des fonctions déjà définies par d'autres développeur·ses. \n",
    "\n",
    "Pour faire simple, ces fonctions sont enregistrées dans des *libraries* (ou *package*) que l'on `importe` dans un programme pour pouvoir s'en servir. On parle aussi de `dépendances`.\n",
    "\n",
    "Certaines *libraries* sont *built-ins* : elles sont toujours disponibles, il suffit de les activer. D'autres doivent être installées avant de pouvoir être activées. On utilise pour cela un `gestionnaire de paquets` (comme [pip](https://pypi.org/project/pip/)). \n",
    "\n",
    "Quelques exemples de *libraries* built-in que vous rencontrerez rapidement : `os`, `csv`, `random`.\n",
    "\n",
    "Pour activer une *library*, il suffit de l'importer au tout début du script avec le mot-clef `import`, suivi du nom de la *library*."
   ]
  },
  {
   "cell_type": "code",
   "execution_count": 12,
   "metadata": {},
   "outputs": [],
   "source": [
    "import os  # on peut désormais utiliser les fonctions de la library os.\n",
    "import random  # on peut désormais utiliser les fonctions de la library random."
   ]
  },
  {
   "cell_type": "markdown",
   "metadata": {
    "slideshow": {
     "slide_type": "subslide"
    }
   },
   "source": [
    "Pour utiliser une fonction issues d'une *library*, il faut rappeler son nom, puis appeler le nom de la fonction comme on le ferait avec une fonction définie localement.\n",
    "\n",
    "Cela se fait selon le modèle suivant : `nom_du_paquet.nom_de_la_fonction()`"
   ]
  },
  {
   "cell_type": "code",
   "execution_count": 13,
   "metadata": {},
   "outputs": [
    {
     "name": "stdout",
     "output_type": "stream",
     "text": [
      "82\n"
     ]
    }
   ],
   "source": [
    "# random possède une fonction appelée randint() qui permet de générer un nombre entier au hasard \n",
    "# compris entre a et b.\n",
    "print(random.randint(0, 100))"
   ]
  },
  {
   "cell_type": "markdown",
   "metadata": {
    "slideshow": {
     "slide_type": "subslide"
    }
   },
   "source": [
    "## Organisation du code\n",
    "\n",
    "Pour faciliter la lecture d'un script, les imports se font au tout début du script. \n",
    "\n",
    "```\n",
    "# imports\n",
    "# --------\n",
    "# définition de la fonction 1\n",
    "# définition de la fonction 2\n",
    "# définition de la fonction 3\n",
    "# --------\n",
    "# instructions\n",
    "# appel de la fonction 1\n",
    "# instructions\n",
    "# appel de la fonction 1\n",
    "# appel de la fonction 3\n",
    "# instructions\n",
    "# appel de la fonction 2\n",
    "```\n"
   ]
  },
  {
   "cell_type": "markdown",
   "metadata": {
    "slideshow": {
     "slide_type": "slide"
    }
   },
   "source": [
    "# Nouveau type : Listes"
   ]
  },
  {
   "cell_type": "markdown",
   "metadata": {
    "slideshow": {
     "slide_type": "subslide"
    }
   },
   "source": [
    "📜 Les listes sont un type de variable pouvant contenir une ou plusieurs valeurs à la suite. \n",
    "\n",
    "📜🐍 En Python, une liste peut contenir plusieurs types de variables en même temps.\n",
    "\n",
    "📜🤨 En fonction des langages de programmation, on les appelle aussi `array` ou `vecteur`.\n",
    "\n",
    "📜 Une liste est un objet appartenant à la catégorie des `iterables` (comme les chaines de caractères)\n",
    "\n",
    "📜 Les valeurs contenues dans une liste sont `indexées`. On peut donc cibler précisément telle ou telle valeur contenue dans la liste.\n",
    "\n",
    "📜🤯 L'indexation dans une liste commence à `0` "
   ]
  },
  {
   "cell_type": "markdown",
   "metadata": {
    "slideshow": {
     "slide_type": "subslide"
    }
   },
   "source": [
    "## Syntaxe"
   ]
  },
  {
   "cell_type": "code",
   "execution_count": 14,
   "metadata": {},
   "outputs": [
    {
     "name": "stdout",
     "output_type": "stream",
     "text": [
      "ma_liste[2]  : C\n",
      "une_variable : B\n",
      "super_liste  : [\"ceci n'est pas un chiffre\", 3.14, True, <class 'str'>, 2048, ['A', 'B', 'C', 'D']]\n"
     ]
    }
   ],
   "source": [
    "# créer une liste\n",
    "ma_liste_vide = []\n",
    "mon_autre_liste_vide = list()\n",
    "ma_liste = ['A','B','C','D']\n",
    "\n",
    "# Accéder au contenu d'une liste\n",
    "print('ma_liste[2]  :', ma_liste[2])\n",
    "une_variable = ma_liste[1]\n",
    "print('une_variable :', une_variable)\n",
    "\n",
    "\n",
    "# Une liste peut contenir plusieurs types... y compris des listes\n",
    "super_liste = [\"ceci n'est pas un chiffre\", 3.14, True, type('hello'), 2048, ma_liste]\n",
    "print('super_liste  :', super_liste)"
   ]
  },
  {
   "cell_type": "markdown",
   "metadata": {
    "slideshow": {
     "slide_type": "subslide"
    }
   },
   "source": [
    "## Indexation\n",
    "\n",
    "> Moyen mnémotechnique : l'indexation des listes fonctionne comme les étages en France.\n",
    "\n",
    "| index  |  0  |  1  |  2  |  3  |\n",
    "| :----- | :-: | :-: | :-: | :-: |\n",
    "| valeur |  A  |  B  |  C  |  D  |\n",
    "| palier | RDC |  1E |  2E |  3E |\n",
    "\n",
    "Si vous demandez un index qui n'est pas associé à une valeur (parce que la liste est trop courte), vous optenez une erreur (`IndexError`)."
   ]
  },
  {
   "cell_type": "code",
   "execution_count": 15,
   "metadata": {},
   "outputs": [
    {
     "ename": "IndexError",
     "evalue": "list index out of range",
     "output_type": "error",
     "traceback": [
      "\u001b[1;31m---------------------------------------------------------------------------\u001b[0m",
      "\u001b[1;31mIndexError\u001b[0m                                Traceback (most recent call last)",
      "\u001b[1;32m<ipython-input-15-b214c2428d1f>\u001b[0m in \u001b[0;36m<module>\u001b[1;34m\u001b[0m\n\u001b[1;32m----> 1\u001b[1;33m \u001b[0mprint\u001b[0m\u001b[1;33m(\u001b[0m\u001b[0mma_liste\u001b[0m\u001b[1;33m[\u001b[0m\u001b[1;36m4\u001b[0m\u001b[1;33m]\u001b[0m\u001b[1;33m)\u001b[0m\u001b[1;33m\u001b[0m\u001b[1;33m\u001b[0m\u001b[0m\n\u001b[0m",
      "\u001b[1;31mIndexError\u001b[0m: list index out of range"
     ]
    }
   ],
   "source": [
    "print(ma_liste[4])"
   ]
  },
  {
   "cell_type": "markdown",
   "metadata": {
    "slideshow": {
     "slide_type": "subslide"
    }
   },
   "source": [
    "## Indexation par la fin\n",
    "\n",
    "On peut viser un emplacement dans la liste en partant du début ou de la fin."
   ]
  },
  {
   "cell_type": "code",
   "execution_count": 16,
   "metadata": {},
   "outputs": [
    {
     "name": "stdout",
     "output_type": "stream",
     "text": [
      "4e\n",
      "2e\n"
     ]
    }
   ],
   "source": [
    "liste_exemple = [\"RDC\", \"1er\", \"2e\", \"3e\", \"4e\"]\n",
    "print(liste_exemple[-1])\n",
    "print(liste_exemple[-3])"
   ]
  },
  {
   "cell_type": "code",
   "execution_count": 17,
   "metadata": {},
   "outputs": [
    {
     "ename": "IndexError",
     "evalue": "list index out of range",
     "output_type": "error",
     "traceback": [
      "\u001b[1;31m---------------------------------------------------------------------------\u001b[0m",
      "\u001b[1;31mIndexError\u001b[0m                                Traceback (most recent call last)",
      "\u001b[1;32m<ipython-input-17-c4b99e6a1b85>\u001b[0m in \u001b[0;36m<module>\u001b[1;34m\u001b[0m\n\u001b[1;32m----> 1\u001b[1;33m \u001b[0mprint\u001b[0m\u001b[1;33m(\u001b[0m\u001b[0mliste_exemple\u001b[0m\u001b[1;33m[\u001b[0m\u001b[1;33m-\u001b[0m\u001b[1;36m10\u001b[0m\u001b[1;33m]\u001b[0m\u001b[1;33m)\u001b[0m\u001b[1;33m\u001b[0m\u001b[1;33m\u001b[0m\u001b[0m\n\u001b[0m",
      "\u001b[1;31mIndexError\u001b[0m: list index out of range"
     ]
    }
   ],
   "source": [
    "print(liste_exemple[-10])"
   ]
  },
  {
   "cell_type": "markdown",
   "metadata": {
    "slideshow": {
     "slide_type": "subslide"
    }
   },
   "source": [
    "## Bonnes pratiques\n",
    "\n",
    "Pour éviter les déconvenues, pensez à utiliser `len()` sur une liste avant de cibler les valeurs indexées."
   ]
  },
  {
   "cell_type": "code",
   "execution_count": 18,
   "metadata": {},
   "outputs": [
    {
     "name": "stdout",
     "output_type": "stream",
     "text": [
      "5\n"
     ]
    }
   ],
   "source": [
    "print(len(liste_exemple))"
   ]
  },
  {
   "cell_type": "code",
   "execution_count": 19,
   "metadata": {},
   "outputs": [
    {
     "name": "stdout",
     "output_type": "stream",
     "text": [
      "4e\n"
     ]
    }
   ],
   "source": [
    "print(liste_exemple[len(liste_exemple) - 1])"
   ]
  },
  {
   "cell_type": "code",
   "execution_count": 20,
   "metadata": {},
   "outputs": [
    {
     "name": "stdout",
     "output_type": "stream",
     "text": [
      "No can't do!\n"
     ]
    }
   ],
   "source": [
    "index = 6\n",
    "if index < len(liste_exemple):\n",
    "    print(liste_exemple[index])\n",
    "else:\n",
    "    print(\"No can't do!\")"
   ]
  },
  {
   "cell_type": "markdown",
   "metadata": {
    "slideshow": {
     "slide_type": "subslide"
    }
   },
   "source": [
    "## Sections, *`sublists`* ou encore *`slices`* \n",
    "\n",
    "Si on peut cibler une seule valeur à la fois, on peut aussi cibler une section dans une liste : `liste[début:fin:pas]`"
   ]
  },
  {
   "cell_type": "code",
   "execution_count": 21,
   "metadata": {},
   "outputs": [
    {
     "name": "stdout",
     "output_type": "stream",
     "text": [
      "['t', 'h', 'o', 'n']\n"
     ]
    }
   ],
   "source": [
    "exemple = ['p','y','t','h','o','n', ' ', '!']\n",
    "print(exemple[2:6])"
   ]
  },
  {
   "cell_type": "markdown",
   "metadata": {},
   "source": [
    "|  0  |  1  |  2      |  3  |  4  |  5  |  6         |  7  |\n",
    "| :-: | :-: | :-:     | :-: | :-: | :-: | :-:        | :-: |\n",
    "| \"P\" | \"Y\" | \"T\"     | \"H\" | \"O\" | \"N\" | \" \"        | \"!\" |\n",
    "|  -  |  -  | *start* |  -  |  -  |  -  | ***stop*** |  -  | "
   ]
  },
  {
   "cell_type": "code",
   "execution_count": 22,
   "metadata": {
    "slideshow": {
     "slide_type": "subslide"
    }
   },
   "outputs": [
    {
     "name": "stdout",
     "output_type": "stream",
     "text": [
      "1 : ['t', 'h', 'o', 'n']\n",
      "2 : []\n",
      "3 : ['t', 'o']\n",
      "4 : ['t', 'h', 'o', 'n', ' ', '!']\n",
      "5 : ['p', 'y', 't', 'h', 'o']\n",
      "6 : ['p', 'y', 't', 'h', 'o', 'n', ' ', '!']\n",
      "7 : ['p', 't', 'o', ' ']\n",
      "8 : ['p', 't', 'o']\n"
     ]
    }
   ],
   "source": [
    "# on peut utiliser des index négatifs\n",
    "print('1 :', exemple[-6:-2])  \n",
    "# en parcourant la liste de gauche à droite\n",
    "print('2 :', exemple[-2:-6])  \n",
    "# le pas de 1 est implicite, on peut le modifier\n",
    "print('3 :', exemple[2:6:2])  \n",
    "# sans index de fin, on continue jusqu'à la fin de la liste \n",
    "print('4 :', exemple[2:])     \n",
    "# sans index de début, on part du début de la liste\n",
    "print('5 :', exemple[:5])     \n",
    "# on peut faire une section allant du début à la fin (copie)\n",
    "print('6 :', exemple[:])      \n",
    "# on peut ne préciser que le pas\n",
    "print('7 :', exemple[::2])    \n",
    "# n'importe lequel des éléments peut être implicite\n",
    "print('8 :', exemple[:5:2])   "
   ]
  },
  {
   "cell_type": "markdown",
   "metadata": {
    "slideshow": {
     "slide_type": "subslide"
    }
   },
   "source": [
    "## Itérables\n",
    "\n",
    "Une chaîne de caractères fait aussi partie de la catégorie des itérables, on peut donc se servir des *slices* et des *index* sur ce type de valeur."
   ]
  },
  {
   "cell_type": "code",
   "execution_count": 23,
   "metadata": {},
   "outputs": [
    {
     "name": "stdout",
     "output_type": "stream",
     "text": [
      "p\n",
      "thon\n"
     ]
    }
   ],
   "source": [
    "chaine = 'python !'\n",
    "print(chaine[len(chaine) - (len(chaine)*2)])\n",
    "print(chaine[2:6])"
   ]
  },
  {
   "cell_type": "markdown",
   "metadata": {
    "slideshow": {
     "slide_type": "subslide"
    }
   },
   "source": [
    "En revanche, dans une chaîne de caractères, on ne peut pas réassigner une valeur à un index. On dit qu'une chaîne de caractères est *`imutable`*."
   ]
  },
  {
   "cell_type": "code",
   "execution_count": 24,
   "metadata": {},
   "outputs": [
    {
     "ename": "TypeError",
     "evalue": "'str' object does not support item assignment",
     "output_type": "error",
     "traceback": [
      "\u001b[1;31m---------------------------------------------------------------------------\u001b[0m",
      "\u001b[1;31mTypeError\u001b[0m                                 Traceback (most recent call last)",
      "\u001b[1;32m<ipython-input-24-b6a7f31ceb5f>\u001b[0m in \u001b[0;36m<module>\u001b[1;34m\u001b[0m\n\u001b[1;32m----> 1\u001b[1;33m \u001b[0mchaine\u001b[0m\u001b[1;33m[\u001b[0m\u001b[1;36m4\u001b[0m\u001b[1;33m]\u001b[0m \u001b[1;33m=\u001b[0m \u001b[1;34m'*'\u001b[0m\u001b[1;33m\u001b[0m\u001b[1;33m\u001b[0m\u001b[0m\n\u001b[0m",
      "\u001b[1;31mTypeError\u001b[0m: 'str' object does not support item assignment"
     ]
    }
   ],
   "source": [
    "chaine[4] = '*'"
   ]
  },
  {
   "cell_type": "code",
   "execution_count": 25,
   "metadata": {},
   "outputs": [
    {
     "name": "stdout",
     "output_type": "stream",
     "text": [
      "pyt*on !\n"
     ]
    }
   ],
   "source": [
    "# mais on peut toujours contourner ce problème...\n",
    "modif = chaine[:3] + '*' + chaine[4:]\n",
    "print(modif)"
   ]
  },
  {
   "cell_type": "markdown",
   "metadata": {
    "slideshow": {
     "slide_type": "subslide"
    }
   },
   "source": [
    "## Méthodes des listes\n",
    "\n",
    "Les listes ont des fonctions et méthodes qui leur sont associées.\n",
    "- `liste.append(x)` : ajouter un élément à la fin de la liste\n",
    "- `liste.pop({index})` : supprimer un élément de la liste à partir de son index (le récupérer en mémoire)\n",
    "- `liste.remove(x)` : supprimer de la liste la première occurrence de l'élément recherché\n",
    "- `liste.index(x)` : renvoyer l'index de la première occurrence de l'élément recherché\n",
    "- `liste.count(x)` : compter le nombre d'occurrence de l'élément recherché dans la liste\n",
    "- `liste.sort()` : trier la liste selon un ensemble de [règles](https://docs.python.org/3.6/howto/sorting.html#sortinghowto)"
   ]
  },
  {
   "cell_type": "code",
   "execution_count": 26,
   "metadata": {
    "slideshow": {
     "slide_type": "subslide"
    }
   },
   "outputs": [
    {
     "name": "stdout",
     "output_type": "stream",
     "text": [
      "[1, 2, 3, 4, 5, 6, 7, 8]\n",
      "[1, 2, 3, 4, 5, 6, 7, 8, ['Q', 'Z', 'S', 'D']]\n"
     ]
    }
   ],
   "source": [
    "liste_1a4 = [1, 2, 3, 4]\n",
    "liste_5a8 = [5, 6, 7, 8]\n",
    "liste_lettres = ['Q', 'Z', 'S', 'D']\n",
    "\n",
    "# On peut concaténer 2 listes\n",
    "liste_1a8 = liste_1a4 + liste_5a8\n",
    "print(liste_1a8)\n",
    "\n",
    "# Attention .append() n'a pas le même effet\n",
    "liste_1a8.append(liste_lettres)\n",
    "print(liste_1a8)"
   ]
  },
  {
   "cell_type": "markdown",
   "metadata": {
    "slideshow": {
     "slide_type": "slide"
    }
   },
   "source": [
    "# Nouveau type : Dictionnaires"
   ]
  },
  {
   "cell_type": "markdown",
   "metadata": {
    "slideshow": {
     "slide_type": "subslide"
    }
   },
   "source": [
    "🔑 Les dictionnaires sont un type de variables contenant une série de `valeurs` associées à des `clefs` d'accès.\n",
    "\n",
    "🔑 Contrairement aux listes, les dictionnaires n'ont pas d'index (ce ne sont pas des itérables).\n",
    "\n",
    "🔑 Comme les listes, les dictionnaires peuvent contenir plusieurs types de données en même temps, y compris d'autres dictionnaires.\n",
    "\n",
    "🔑 Un dictionnaire peut contenir plusieurs fois la même valeur mais chaque clef doit être unique."
   ]
  },
  {
   "cell_type": "markdown",
   "metadata": {
    "slideshow": {
     "slide_type": "subslide"
    }
   },
   "source": [
    "## Syntaxe"
   ]
  },
  {
   "cell_type": "code",
   "execution_count": 27,
   "metadata": {},
   "outputs": [
    {
     "name": "stdout",
     "output_type": "stream",
     "text": [
      "mon_dico = {'clef': 'valeur'}\n",
      "mon_dico_vide = {}\n",
      "mon_dico_vide = {'hello': 'world'}\n",
      "mon_dico_vide = {'hello': 'world!'}\n",
      "mon_dico_vide = {}\n"
     ]
    }
   ],
   "source": [
    "# créer un dictionnaire\n",
    "mon_dico_vide = {}\n",
    "mon_autre_dico_vide = dict()\n",
    "mon_dico = {\"clef\" : \"valeur\"}\n",
    "\n",
    "print(\"mon_dico =\", mon_dico)\n",
    "\n",
    "# Ajouter ou modifier des valeurs dans un dictionnaire\n",
    "print(\"mon_dico_vide =\", mon_dico_vide)\n",
    "mon_dico_vide[\"hello\"] = \"world\"\n",
    "print(\"mon_dico_vide =\", mon_dico_vide)\n",
    "mon_dico_vide[\"hello\"] = \"world!\"\n",
    "print(\"mon_dico_vide =\", mon_dico_vide)\n",
    "\n",
    "# Supprimer une valeur dans un dictionnaire\n",
    "del mon_dico_vide[\"hello\"]\n",
    "print(\"mon_dico_vide =\", mon_dico_vide)"
   ]
  },
  {
   "cell_type": "code",
   "execution_count": 28,
   "metadata": {
    "slideshow": {
     "slide_type": "subslide"
    }
   },
   "outputs": [
    {
     "name": "stdout",
     "output_type": "stream",
     "text": [
      "mon_dico[\"clef\"] = valeur\n",
      "super_dico  : {'chiffre': 42, 113: 'entier', 'clef3': [1, 2, 3]}\n"
     ]
    }
   ],
   "source": [
    "# Accéder au contenu d'un dictionnaire\n",
    "print('mon_dico[\"clef\"] =', mon_dico[\"clef\"])\n",
    "\n",
    "# Un dictionnaire peut contenir plusieurs types... y compris des dictionnaires\n",
    "super_dico = {\"chiffre\": 42, 113: \"entier\", \"clef3\" : [1,2,3]}\n",
    "print('super_dico  :', super_dico)"
   ]
  },
  {
   "cell_type": "markdown",
   "metadata": {
    "slideshow": {
     "slide_type": "fragment"
    }
   },
   "source": [
    "Dans certains cas, utiliser un dictionnaire plutôt qu'une liste permet de naviguer plus facilement entre les données qu'il contient.\n",
    "\n",
    "``` python\n",
    "identité = [\"Berthe\", \"Morisot\", 1865, 1841, 1895]\n",
    "identité = {\"prénom\": \"Berthe\", \"nom\": \"Morisot\", \"debut\": 1865, \"naissance\": 1841, \"mort\": 1895}\n",
    "```"
   ]
  },
  {
   "cell_type": "markdown",
   "metadata": {
    "slideshow": {
     "slide_type": "subslide"
    }
   },
   "source": [
    "## Méthodes des dictionnaires\n",
    "\n",
    "- `dico.keys()` : créer un objet itérable contenant la liste des clefs utilisées dans le dictionnaire\n",
    "- `dico.values()` : créer un obbjet itérable contenant la liste des valeurs contenues dans le dictionnaire\n",
    "- `dico.get()` : envoie la valeur associé à la clef recherchée ou une valeur par défaut si la clef n'existe pas\n",
    "- `dico.items()` : renvoie le contenu du dictionnaire sous la forme d'une liste de `tuples`."
   ]
  },
  {
   "cell_type": "code",
   "execution_count": 29,
   "metadata": {
    "slideshow": {
     "slide_type": "subslide"
    }
   },
   "outputs": [],
   "source": [
    "dico_demo = {\"prénom\": \"Berthe\", \"nom\": \"Morisot\", \"debut\": 1865, \"naissance\": 1841, \"mort\": 1895}"
   ]
  },
  {
   "cell_type": "code",
   "execution_count": 30,
   "metadata": {},
   "outputs": [
    {
     "name": "stdout",
     "output_type": "stream",
     "text": [
      "dict_keys(['prénom', 'nom', 'debut', 'naissance', 'mort'])\n",
      "<class 'dict_keys'>\n",
      "prénom\n",
      "nom\n",
      "debut\n",
      "naissance\n",
      "mort\n"
     ]
    }
   ],
   "source": [
    "# .keys()\n",
    "print(dico_demo.keys())\n",
    "print(type(dico_demo.keys()))\n",
    "for key in dico_demo.keys():\n",
    "    print(key)"
   ]
  },
  {
   "cell_type": "code",
   "execution_count": 31,
   "metadata": {},
   "outputs": [
    {
     "name": "stdout",
     "output_type": "stream",
     "text": [
      "dict_values(['Berthe', 'Morisot', 1865, 1841, 1895])\n",
      "<class 'dict_values'>\n",
      "Berthe\n",
      "Morisot\n",
      "1865\n",
      "1841\n",
      "1895\n"
     ]
    }
   ],
   "source": [
    "# .values()\n",
    "print(dico_demo.values())\n",
    "print(type(dico_demo.values()))\n",
    "for value in dico_demo.values():\n",
    "    print(value)"
   ]
  },
  {
   "cell_type": "code",
   "execution_count": 32,
   "metadata": {
    "slideshow": {
     "slide_type": "subslide"
    }
   },
   "outputs": [
    {
     "name": "stdout",
     "output_type": "stream",
     "text": [
      "Berthe\n",
      "None\n",
      "métier inconnu\n"
     ]
    }
   ],
   "source": [
    "# .get(key, default)\n",
    "print(dico_demo.get('prénom'))\n",
    "print(dico_demo.get('métier'))\n",
    "print(dico_demo.get('métier', 'métier inconnu'))"
   ]
  },
  {
   "cell_type": "code",
   "execution_count": 33,
   "metadata": {},
   "outputs": [
    {
     "name": "stdout",
     "output_type": "stream",
     "text": [
      "dict_items([('prénom', 'Berthe'), ('nom', 'Morisot'), ('debut', 1865), ('naissance', 1841), ('mort', 1895)])\n",
      "<class 'dict_items'>\n",
      "<class 'tuple'> ; ('prénom', 'Berthe')\n",
      "<class 'tuple'> ; ('nom', 'Morisot')\n",
      "<class 'tuple'> ; ('debut', 1865)\n",
      "<class 'tuple'> ; ('naissance', 1841)\n",
      "<class 'tuple'> ; ('mort', 1895)\n"
     ]
    }
   ],
   "source": [
    "# .items()\n",
    "print(dico_demo.items())\n",
    "print(type(dico_demo.items()))\n",
    "for duo in dico_demo.items():\n",
    "    print(type(duo), duo, sep=\" ; \")"
   ]
  },
  {
   "cell_type": "markdown",
   "metadata": {
    "slideshow": {
     "slide_type": "skip"
    }
   },
   "source": [
    "## Tuples\n",
    "\n",
    "🧲 Un tuple ressemble a une liste en ce qu'il est une série ordonnées de valeurs (stockées ou non dans des variables) auxquelles on peut accéder grâce aux index.\n",
    "\n",
    "🧲 En revanche, comme les chaines de caractères, les tuples sont dits imutables. On ne peut pas modifier l'une des valeurs stockées dans le tuple sans le modifer entièrement.\n",
    "\n",
    "🧲 En général, les tuples sont notés comme des valeurs séparées par des virgules et contenues entre deux parenthèses : `(\"ceci\", \"est\", \"un\", \"tuple\")`.\n",
    "\n",
    "🧲 On n'est pas toujours obligé d'utiliser des parenthèses, elles sont parfois implicites : `tuple = 2019, 2020`\n",
    "\n",
    "🧲 Un tuple peut ne contenir qu'une valeur : `(True,)`\n"
   ]
  },
  {
   "cell_type": "code",
   "execution_count": 34,
   "metadata": {
    "slideshow": {
     "slide_type": "skip"
    }
   },
   "outputs": [
    {
     "name": "stdout",
     "output_type": "stream",
     "text": [
      "prénom ... Berthe\n",
      "nom ... Morisot\n",
      "debut ... 1865\n",
      "naissance ... 1841\n",
      "mort ... 1895\n"
     ]
    }
   ],
   "source": [
    "# On peut \"dézipper\" les tuples en créant autant de variable receptacle qu'il y a de valeur contenues dans le tuple\n",
    "\n",
    "for key, value in dico_demo.items():\n",
    "    print(key, value, sep=\" ... \")"
   ]
  },
  {
   "cell_type": "markdown",
   "metadata": {
    "slideshow": {
     "slide_type": "subslide"
    }
   },
   "source": [
    "# Exercices pratiques"
   ]
  },
  {
   "cell_type": "markdown",
   "metadata": {
    "slideshow": {
     "slide_type": "-"
    }
   },
   "source": [
    "Réaliser les 5 exercices du fichier `listes_et_dico.py`\n",
    "\n",
    "### 👉 https://repl.it/@AlixChagu/ENCintroalgo#basics/listes_et_dico.py"
   ]
  },
  {
   "cell_type": "markdown",
   "metadata": {
    "slideshow": {
     "slide_type": "slide"
    }
   },
   "source": [
    "# Quiz de fin de chapitre\n",
    "\n",
    "### 👉 https://framaforms.org/intro-a-lalgo-et-a-python-3-1601159917"
   ]
  },
  {
   "cell_type": "markdown",
   "metadata": {
    "slideshow": {
     "slide_type": "slide"
    }
   },
   "source": [
    "# Aller plus loin"
   ]
  },
  {
   "cell_type": "markdown",
   "metadata": {
    "slideshow": {
     "slide_type": "subslide"
    }
   },
   "source": [
    "- Listes en compréhension\n",
    "- Programmation modulaires\n",
    "- JSON et CSV\n",
    "- Manipulation de fichiers\n",
    "- Documenter son code\n",
    "- Tests et exceptions\n",
    "- Classes et programmation orientée objets"
   ]
  },
  {
   "cell_type": "markdown",
   "metadata": {
    "slideshow": {
     "slide_type": "slide"
    }
   },
   "source": [
    "# FIN\n",
    "\n",
    "![Prof Chen: \"Un tout nouveau monde de rêves, d'aventures et de Python t'attend! Dingue!\"](../../images/chen.png)"
   ]
  }
 ],
 "metadata": {
  "celltoolbar": "Diaporama",
  "kernelspec": {
   "display_name": "Python 3",
   "language": "python",
   "name": "python3"
  },
  "language_info": {
   "codemirror_mode": {
    "name": "ipython",
    "version": 3
   },
   "file_extension": ".py",
   "mimetype": "text/x-python",
   "name": "python",
   "nbconvert_exporter": "python",
   "pygments_lexer": "ipython3",
   "version": "3.8.3"
  }
 },
 "nbformat": 4,
 "nbformat_minor": 4
}
